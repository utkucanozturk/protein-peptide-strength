{
 "cells": [
  {
   "cell_type": "markdown",
   "metadata": {},
   "source": [
    "## Protein-Peptide Docking Score Prediction\n",
    "\n",
    "This notebook is a reference to an implementation of a deep learning NLP method to predict docking\n",
    "score of a peptide just using amino acid sequence.\n",
    "\n",
    "#### Loading dependencies"
   ]
  },
  {
   "cell_type": "code",
   "execution_count": 1,
   "metadata": {},
   "outputs": [],
   "source": [
    "import numpy as np\n",
    "import pandas as pd\n",
    "import tensorflow as tf\n",
    "import matplotlib.pyplot as plt\n",
    "import seaborn as sns\n",
    "import warnings\n",
    "import math\n",
    "import random\n",
    "import zipfile\n",
    "import glob\n",
    "import os\n",
    "pd.options.mode.chained_assignment = None\n",
    "random.seed(1234)"
   ]
  },
  {
   "cell_type": "markdown",
   "metadata": {},
   "source": [
    "#### Reading the data"
   ]
  },
  {
   "cell_type": "code",
   "execution_count": 2,
   "metadata": {},
   "outputs": [
    {
     "name": "stdout",
     "output_type": "stream",
     "text": [
      "----------------------------------------------------------------------------------------------------\n",
      "dict_keys(['test', 'train', '._train'])\n",
      "----------------------------------------------------------------------------------------------------\n",
      "dict_values([          0      1\n",
      "0     -10.5  iinfv\n",
      "1      -9.4  nvvnm\n",
      "2      -9.0  titma\n",
      "3      -9.8  vvvyc\n",
      "4     -13.1  lkdrk\n",
      "...     ...    ...\n",
      "99831  -8.9  flpth\n",
      "99832  -9.4  ipynd\n",
      "99833  -8.9  ttteg\n",
      "99834  -9.0  siacd\n",
      "99835  -8.9  svrsq\n",
      "\n",
      "[99836 rows x 2 columns],           0      1\n",
      "0      -9.9  ghfcn\n",
      "1     -10.2  ggwlt\n",
      "2      -9.3  aamid\n",
      "3      -9.1  mphwc\n",
      "4     -11.5  hwytl\n",
      "...     ...    ...\n",
      "99842 -11.7  eqtkd\n",
      "99843 -12.2  hkfyf\n",
      "99844  -9.6  eataw\n",
      "99845 -10.2  cgalk\n",
      "99846  -9.8  kpkdf\n",
      "\n",
      "[99847 rows x 2 columns],     0\n",
      "0 NaN])\n"
     ]
    }
   ],
   "source": [
    "file_path=glob.glob(\"*.zip\")\n",
    "zf = zipfile.ZipFile(file_path[0])\n",
    "extension='csv'\n",
    "\n",
    "dfs= {os.path.basename(f)[:-4]:pd.read_csv(zf.open(f), header=None) for f in zf.namelist() if f.endswith(extension)}\n",
    "\n",
    "print('-'*100)\n",
    "print(dfs.keys())\n",
    "\n",
    "print('-'*100)\n",
    "print(dfs.values())"
   ]
  },
  {
   "cell_type": "code",
   "execution_count": 3,
   "metadata": {},
   "outputs": [],
   "source": [
    "df_train=dfs['train']\n",
    "df_test=dfs['test']"
   ]
  },
  {
   "cell_type": "markdown",
   "metadata": {},
   "source": [
    "#### First Look\n",
    "\n",
    "Scientific docking softwares estimates the strength of the interaction with protein and peptide. Peptides are composed of amino acids. There are 20 different amino acids. For example for the first row, -9.9 is the docking score and “ghfcn” is the amino acid sequence. Each letter shows one amino acid. In order to build a predictive model which takes the amino acid sequence as the input, it is necessary to divide the peptide sequence into characters.\n",
    "\n",
    "Keras Tokenizer will be used to tokenize the amino acid sequences."
   ]
  },
  {
   "cell_type": "code",
   "execution_count": 4,
   "metadata": {},
   "outputs": [
    {
     "data": {
      "text/html": [
       "<div>\n",
       "<style scoped>\n",
       "    .dataframe tbody tr th:only-of-type {\n",
       "        vertical-align: middle;\n",
       "    }\n",
       "\n",
       "    .dataframe tbody tr th {\n",
       "        vertical-align: top;\n",
       "    }\n",
       "\n",
       "    .dataframe thead th {\n",
       "        text-align: right;\n",
       "    }\n",
       "</style>\n",
       "<table border=\"1\" class=\"dataframe\">\n",
       "  <thead>\n",
       "    <tr style=\"text-align: right;\">\n",
       "      <th></th>\n",
       "      <th>0</th>\n",
       "      <th>1</th>\n",
       "    </tr>\n",
       "  </thead>\n",
       "  <tbody>\n",
       "    <tr>\n",
       "      <th>0</th>\n",
       "      <td>-9.9</td>\n",
       "      <td>ghfcn</td>\n",
       "    </tr>\n",
       "    <tr>\n",
       "      <th>1</th>\n",
       "      <td>-10.2</td>\n",
       "      <td>ggwlt</td>\n",
       "    </tr>\n",
       "    <tr>\n",
       "      <th>2</th>\n",
       "      <td>-9.3</td>\n",
       "      <td>aamid</td>\n",
       "    </tr>\n",
       "    <tr>\n",
       "      <th>3</th>\n",
       "      <td>-9.1</td>\n",
       "      <td>mphwc</td>\n",
       "    </tr>\n",
       "    <tr>\n",
       "      <th>4</th>\n",
       "      <td>-11.5</td>\n",
       "      <td>hwytl</td>\n",
       "    </tr>\n",
       "  </tbody>\n",
       "</table>\n",
       "</div>"
      ],
      "text/plain": [
       "      0      1\n",
       "0  -9.9  ghfcn\n",
       "1 -10.2  ggwlt\n",
       "2  -9.3  aamid\n",
       "3  -9.1  mphwc\n",
       "4 -11.5  hwytl"
      ]
     },
     "execution_count": 4,
     "metadata": {},
     "output_type": "execute_result"
    }
   ],
   "source": [
    "df_train.head()"
   ]
  },
  {
   "cell_type": "code",
   "execution_count": 5,
   "metadata": {},
   "outputs": [],
   "source": [
    "texts=df_train[1].values"
   ]
  },
  {
   "cell_type": "code",
   "execution_count": 6,
   "metadata": {},
   "outputs": [
    {
     "name": "stdout",
     "output_type": "stream",
     "text": [
      "99847\n",
      "['ghfcn' 'ggwlt']\n"
     ]
    }
   ],
   "source": [
    "print(len(texts))\n",
    "print(texts[:2])"
   ]
  },
  {
   "cell_type": "code",
   "execution_count": 7,
   "metadata": {},
   "outputs": [],
   "source": [
    "def fit_tokenizer(texts):\n",
    "    tk=tf.keras.preprocessing.text.Tokenizer(num_words=None, char_level=True, lower=True)\n",
    "    tk.fit_on_texts(texts)\n",
    "    return tk"
   ]
  },
  {
   "cell_type": "code",
   "execution_count": 8,
   "metadata": {},
   "outputs": [],
   "source": [
    "tk=fit_tokenizer(texts)"
   ]
  },
  {
   "cell_type": "code",
   "execution_count": 9,
   "metadata": {},
   "outputs": [
    {
     "data": {
      "text/plain": [
       "{'h': 1,\n",
       " 'c': 2,\n",
       " 'g': 3,\n",
       " 'a': 4,\n",
       " 'q': 5,\n",
       " 'm': 6,\n",
       " 'd': 7,\n",
       " 'y': 8,\n",
       " 't': 9,\n",
       " 'p': 10,\n",
       " 'e': 11,\n",
       " 'n': 12,\n",
       " 'i': 13,\n",
       " 'w': 14,\n",
       " 'l': 15,\n",
       " 's': 16,\n",
       " 'v': 17,\n",
       " 'f': 18,\n",
       " 'k': 19,\n",
       " 'r': 20}"
      ]
     },
     "execution_count": 9,
     "metadata": {},
     "output_type": "execute_result"
    }
   ],
   "source": [
    "tk.word_index"
   ]
  },
  {
   "cell_type": "code",
   "execution_count": 10,
   "metadata": {},
   "outputs": [],
   "source": [
    "input_dim=len(tk.word_index)+1"
   ]
  },
  {
   "cell_type": "code",
   "execution_count": 11,
   "metadata": {},
   "outputs": [],
   "source": [
    "from keras.preprocessing.sequence import pad_sequences\n",
    "def create_sequences(tk, texts):\n",
    "    sequences=tk.texts_to_sequences(texts)\n",
    "    padded_sequences = pad_sequences(sequences, 5, padding='post')\n",
    "    return padded_sequences"
   ]
  },
  {
   "cell_type": "code",
   "execution_count": 12,
   "metadata": {},
   "outputs": [
    {
     "name": "stdout",
     "output_type": "stream",
     "text": [
      "[[ 3  1 18  2 12]\n",
      " [ 3  3 14 15  9]\n",
      " [ 4  4  6 13  7]\n",
      " ...\n",
      " [11  4  9  4 14]\n",
      " [ 2  3  4 15 19]\n",
      " [19 10 19  7 18]]\n"
     ]
    }
   ],
   "source": [
    "padded_sequences=create_sequences(tk, texts)\n",
    "print(padded_sequences)"
   ]
  },
  {
   "cell_type": "code",
   "execution_count": 13,
   "metadata": {},
   "outputs": [],
   "source": [
    "input_len=len(padded_sequences[0])"
   ]
  },
  {
   "cell_type": "markdown",
   "metadata": {},
   "source": [
    "### Model Building\n",
    "\n",
    "#### Defining the model\n",
    "\n",
    "Target variable is numerical and takes values between -14.8 and -5.9. Therefore, the problem is a regression problem.\n",
    "\n",
    "Deep learning model with an embedding layer will be fitted on training data. Loss metric will be set as mean squared error(mse). In addition to MSE, mean absolute error(mae) and mean absolute percentage error(mape) will be analyzed."
   ]
  },
  {
   "cell_type": "code",
   "execution_count": 14,
   "metadata": {},
   "outputs": [
    {
     "data": {
      "text/plain": [
       "count    99847.000000\n",
       "mean       -10.209103\n",
       "std          1.090540\n",
       "min        -14.800000\n",
       "25%        -10.900000\n",
       "50%        -10.200000\n",
       "75%         -9.500000\n",
       "max         -5.900000\n",
       "Name: 0, dtype: float64"
      ]
     },
     "execution_count": 14,
     "metadata": {},
     "output_type": "execute_result"
    }
   ],
   "source": [
    "df_train[0].describe()"
   ]
  },
  {
   "cell_type": "markdown",
   "metadata": {},
   "source": [
    "#### Deep learning model with an embedding layer"
   ]
  },
  {
   "cell_type": "code",
   "execution_count": 15,
   "metadata": {},
   "outputs": [],
   "source": [
    "from keras.models import Sequential\n",
    "from keras.layers import Dense\n",
    "from keras.layers import Flatten\n",
    "from keras.layers.embeddings import Embedding\n",
    "from keras.optimizers import Adagrad\n",
    "\n",
    "def model_init(input_dim, input_len):\n",
    "    \n",
    "    model = Sequential()\n",
    "    model.add(Embedding(input_dim=input_dim, output_dim=input_len, input_length=input_len))\n",
    "    model.add(Flatten())\n",
    "    model.add(Dense(1, activation='linear'))\n",
    "    \n",
    "    # Initializing Adagrad optimizer\n",
    "    opt = Adagrad(learning_rate=0.1)\n",
    "    \n",
    "    model.compile(optimizer=opt, loss='mse', \n",
    "              metrics=['MeanAbsoluteError', 'MeanAbsolutePercentageError'])\n",
    "    \n",
    "    return model"
   ]
  },
  {
   "cell_type": "code",
   "execution_count": 16,
   "metadata": {},
   "outputs": [
    {
     "name": "stdout",
     "output_type": "stream",
     "text": [
      "Model: \"sequential\"\n",
      "_________________________________________________________________\n",
      "Layer (type)                 Output Shape              Param #   \n",
      "=================================================================\n",
      "embedding (Embedding)        (None, 5, 5)              105       \n",
      "_________________________________________________________________\n",
      "flatten (Flatten)            (None, 25)                0         \n",
      "_________________________________________________________________\n",
      "dense (Dense)                (None, 1)                 26        \n",
      "=================================================================\n",
      "Total params: 131\n",
      "Trainable params: 131\n",
      "Non-trainable params: 0\n",
      "_________________________________________________________________\n",
      "None\n"
     ]
    }
   ],
   "source": [
    "model=model_init(input_dim, input_len)\n",
    "print(model.summary())"
   ]
  },
  {
   "cell_type": "code",
   "execution_count": 17,
   "metadata": {},
   "outputs": [],
   "source": [
    "def model_train(model, x, y, epochs):\n",
    "    history=model.fit(x, y, epochs=epochs, verbose=1)\n",
    "    return history"
   ]
  },
  {
   "cell_type": "code",
   "execution_count": 18,
   "metadata": {},
   "outputs": [
    {
     "name": "stdout",
     "output_type": "stream",
     "text": [
      "Epoch 1/20\n",
      "3121/3121 [==============================] - 4s 943us/step - loss: 1.6908 - mean_absolute_error: 0.5773 - mean_absolute_percentage_error: 5.6517\n",
      "Epoch 2/20\n",
      "3121/3121 [==============================] - 3s 1ms/step - loss: 0.2101 - mean_absolute_error: 0.3590 - mean_absolute_percentage_error: 3.5174\n",
      "Epoch 3/20\n",
      "3121/3121 [==============================] - 3s 937us/step - loss: 0.2088 - mean_absolute_error: 0.3581 - mean_absolute_percentage_error: 3.5089\n",
      "Epoch 4/20\n",
      "3121/3121 [==============================] - 4s 1ms/step - loss: 0.2067 - mean_absolute_error: 0.3565 - mean_absolute_percentage_error: 3.4900\n",
      "Epoch 5/20\n",
      "3121/3121 [==============================] - 3s 978us/step - loss: 0.2066 - mean_absolute_error: 0.3564 - mean_absolute_percentage_error: 3.4924\n",
      "Epoch 6/20\n",
      "3121/3121 [==============================] - ETA: 0s - loss: 0.2071 - mean_absolute_error: 0.3564 - mean_absolute_percentage_error: 3.49 - 3s 1ms/step - loss: 0.2071 - mean_absolute_error: 0.3564 - mean_absolute_percentage_error: 3.4915\n",
      "Epoch 7/20\n",
      "3121/3121 [==============================] - 3s 886us/step - loss: 0.2066 - mean_absolute_error: 0.3563 - mean_absolute_percentage_error: 3.4895\n",
      "Epoch 8/20\n",
      "3121/3121 [==============================] - ETA: 0s - loss: 0.2059 - mean_absolute_error: 0.3558 - mean_absolute_percentage_error: 3.48 - 3s 1ms/step - loss: 0.2059 - mean_absolute_error: 0.3558 - mean_absolute_percentage_error: 3.4866\n",
      "Epoch 9/20\n",
      "3121/3121 [==============================] - 3s 962us/step - loss: 0.2065 - mean_absolute_error: 0.3558 - mean_absolute_percentage_error: 3.4869\n",
      "Epoch 10/20\n",
      "3121/3121 [==============================] - 3s 1ms/step - loss: 0.2077 - mean_absolute_error: 0.3568 - mean_absolute_percentage_error: 3.4922\n",
      "Epoch 11/20\n",
      "3121/3121 [==============================] - 3s 999us/step - loss: 0.2077 - mean_absolute_error: 0.3571 - mean_absolute_percentage_error: 3.4976\n",
      "Epoch 12/20\n",
      "3121/3121 [==============================] - 3s 907us/step - loss: 0.2051 - mean_absolute_error: 0.3548 - mean_absolute_percentage_error: 3.4774\n",
      "Epoch 13/20\n",
      "3121/3121 [==============================] - 3s 864us/step - loss: 0.2071 - mean_absolute_error: 0.3570 - mean_absolute_percentage_error: 3.4995\n",
      "Epoch 14/20\n",
      "3121/3121 [==============================] - 3s 894us/step - loss: 0.2070 - mean_absolute_error: 0.3569 - mean_absolute_percentage_error: 3.4960\n",
      "Epoch 15/20\n",
      "3121/3121 [==============================] - 3s 1ms/step - loss: 0.2077 - mean_absolute_error: 0.3572 - mean_absolute_percentage_error: 3.4993\n",
      "Epoch 16/20\n",
      "3121/3121 [==============================] - 4s 1ms/step - loss: 0.2080 - mean_absolute_error: 0.3573 - mean_absolute_percentage_error: 3.5000\n",
      "Epoch 17/20\n",
      "3121/3121 [==============================] - 4s 1ms/step - loss: 0.2076 - mean_absolute_error: 0.3573 - mean_absolute_percentage_error: 3.4985\n",
      "Epoch 18/20\n",
      "3121/3121 [==============================] - 4s 1ms/step - loss: 0.2062 - mean_absolute_error: 0.3563 - mean_absolute_percentage_error: 3.4907\n",
      "Epoch 19/20\n",
      "3121/3121 [==============================] - 3s 989us/step - loss: 0.2069 - mean_absolute_error: 0.3570 - mean_absolute_percentage_error: 3.4994\n",
      "Epoch 20/20\n",
      "3121/3121 [==============================] - 3s 838us/step - loss: 0.2049 - mean_absolute_error: 0.3550 - mean_absolute_percentage_error: 3.4759\n"
     ]
    }
   ],
   "source": [
    "history=model_train(model, padded_sequences, df_train[0], 20)"
   ]
  },
  {
   "cell_type": "code",
   "execution_count": 19,
   "metadata": {},
   "outputs": [
    {
     "name": "stdout",
     "output_type": "stream",
     "text": [
      "3121/3121 [==============================] - 2s 712us/step - loss: 0.2071 - mean_absolute_error: 0.3597 - mean_absolute_percentage_error: 3.5360\n"
     ]
    },
    {
     "data": {
      "text/plain": [
       "[0.20709598064422607, 0.35965821146965027, 3.536001443862915]"
      ]
     },
     "execution_count": 19,
     "metadata": {},
     "output_type": "execute_result"
    }
   ],
   "source": [
    "model.evaluate(padded_sequences, df_train[0], verbose=1)"
   ]
  },
  {
   "cell_type": "code",
   "execution_count": 20,
   "metadata": {},
   "outputs": [
    {
     "name": "stdout",
     "output_type": "stream",
     "text": [
      "[[13 13 12 18 17]\n",
      " [12 17 17 12  6]\n",
      " [ 9 13  9  6  4]\n",
      " ...\n",
      " [ 9  9  9 11  3]\n",
      " [16 13  4  2  7]\n",
      " [16 17 20 16  5]]\n"
     ]
    }
   ],
   "source": [
    "test_texts=df_test[1].values\n",
    "padded_test_sequences=create_sequences(tk, test_texts)\n",
    "print(padded_test_sequences)"
   ]
  },
  {
   "cell_type": "code",
   "execution_count": 21,
   "metadata": {},
   "outputs": [
    {
     "name": "stdout",
     "output_type": "stream",
     "text": [
      "3120/3120 [==============================] - 3s 827us/step - loss: 0.2101 - mean_absolute_error: 0.3632 - mean_absolute_percentage_error: 3.5680\n"
     ]
    },
    {
     "data": {
      "text/plain": [
       "[0.21005292236804962, 0.3632102310657501, 3.5680267810821533]"
      ]
     },
     "execution_count": 21,
     "metadata": {},
     "output_type": "execute_result"
    }
   ],
   "source": [
    "model.evaluate(padded_test_sequences, df_test[0], verbose=1)"
   ]
  },
  {
   "cell_type": "code",
   "execution_count": 22,
   "metadata": {},
   "outputs": [
    {
     "data": {
      "image/png": "[encoded data removed]",
      "text/plain": [
       "<Figure size 720x576 with 1 Axes>"
      ]
     },
     "metadata": {
      "needs_background": "light"
     },
     "output_type": "display_data"
    }
   ],
   "source": [
    "plt.figure(figsize=(10,8))\n",
    "plt.plot(history.history['loss']);"
   ]
  },
  {
   "cell_type": "code",
   "execution_count": 23,
   "metadata": {},
   "outputs": [
    {
     "data": {
      "image/png": "[encoded data removed]",
      "text/plain": [
       "<Figure size 720x576 with 1 Axes>"
      ]
     },
     "metadata": {
      "needs_background": "light"
     },
     "output_type": "display_data"
    }
   ],
   "source": [
    "plt.figure(figsize=(10,8))\n",
    "plt.plot(history.history['mean_absolute_error']);"
   ]
  },
  {
   "cell_type": "code",
   "execution_count": 24,
   "metadata": {},
   "outputs": [],
   "source": [
    "test_pred=pd.DataFrame(model.predict(padded_test_sequences))"
   ]
  },
  {
   "cell_type": "code",
   "execution_count": 25,
   "metadata": {},
   "outputs": [
    {
     "data": {
      "image/png": "[encoded data removed]",
      "text/plain": [
       "<Figure size 720x576 with 1 Axes>"
      ]
     },
     "metadata": {
      "needs_background": "light"
     },
     "output_type": "display_data"
    }
   ],
   "source": [
    "plt.figure(figsize=(10,8))\n",
    "plt.scatter(x=df_test[0], y=test_pred);\n",
    "plt.xlabel('True Scores', size=14);\n",
    "plt.ylabel('Predicted Scores', size=14);"
   ]
  },
  {
   "cell_type": "code",
   "execution_count": 26,
   "metadata": {},
   "outputs": [
    {
     "name": "stdout",
     "output_type": "stream",
     "text": [
      "Coefficient of determination, RSquared: 0.8232826566365605\n"
     ]
    }
   ],
   "source": [
    "from sklearn.metrics import r2_score\n",
    "\n",
    "coefficient_of_dermination = r2_score(df_test[0], test_pred)\n",
    "\n",
    "print('Coefficient of determination, RSquared: '+str(coefficient_of_dermination))"
   ]
  }
 ],
 "metadata": {
  "kernelspec": {
   "display_name": "Python 3",
   "language": "python",
   "name": "python3"
  },
  "language_info": {
   "codemirror_mode": {
    "name": "ipython",
    "version": 3
   },
   "file_extension": ".py",
   "mimetype": "text/x-python",
   "name": "python",
   "nbconvert_exporter": "python",
   "pygments_lexer": "ipython3",
   "version": "3.7.9"
  }
 },
 "nbformat": 4,
 "nbformat_minor": 2
}
